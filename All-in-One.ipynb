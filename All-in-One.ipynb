{
 "cells": [
  {
   "cell_type": "markdown",
   "metadata": {},
   "source": [
    "Links to other notebooks in the same folder:\n",
    "\n",
    "<nav class = \"navbar navbar-light bg-faded\">\n",
    "    <ul class = \"nav navbar-nav\">\n",
    "        <li class = \"\">\n",
    "            <a class = \"nav-link\">notebook1</a>\n",
    "        </li>\n",
    "        <li class = \"\">\n",
    "            <a class = \"nav-link\">notebook2</a>\n",
    "        </li>\n",
    "        <li class = \"\">\n",
    "            <a class = \"nav-link\">notebook3</a>\n",
    "        </li>\n",
    "        "
   ]
  },
  {
   "cell_type": "markdown",
   "metadata": {
    "toc": "true"
   },
   "source": [
    "# Table of Contents\n",
    " <p><div class=\"lev1 toc-item\"><a href=\"#Import-Useful-Libraries\" data-toc-modified-id=\"Import-Useful-Libraries-1\"><span class=\"toc-item-num\">1&nbsp;&nbsp;</span>Import Useful Libraries</a></div><div class=\"lev1 toc-item\"><a href=\"#Connect-to-Database\" data-toc-modified-id=\"Connect-to-Database-2\"><span class=\"toc-item-num\">2&nbsp;&nbsp;</span>Merge Label Two Team</a></div><div class=\"lev1 toc-item\"><a href=\"#Autofill-Table-Names\" data-toc-modified-id=\"Autofill-Table-Names-3\"><span class=\"toc-item-num\">3&nbsp;&nbsp;</span>Feedback Label to Two Team</a></div><div class=\"lev1 toc-item\"><a href=\"#Thread-Manager\" data-toc-modified-id=\"Thread-Manager-4\"><span class=\"toc-item-num\">4&nbsp;&nbsp;</span>Merge Label Two Team - Part 2</a></div><div class=\"lev1 toc-item\"><a href=\"#Magic-Functions-Useful-for-Interacting-with-the-Cluster\" data-toc-modified-id=\"Magic-Functions-Useful-for-Interacting-with-the-Cluster-5\"><span class=\"toc-item-num\">5&nbsp;&nbsp;</span>Check Quality and Quatity</a></div>"
   ]
  },
  {
   "cell_type": "markdown",
   "metadata": {},
   "source": [
    "# Import Useful Libraries"
   ]
  },
  {
   "cell_type": "code",
   "execution_count": 1,
   "metadata": {},
   "outputs": [],
   "source": [
    "%load_ext autoreload\n",
    "%autoreload 2"
   ]
  },
  {
   "cell_type": "code",
   "execution_count": 2,
   "metadata": {
    "ExecuteTime": {
     "end_time": "2019-03-19T00:51:31.783309Z",
     "start_time": "2019-03-19T00:51:24.050248Z"
    }
   },
   "outputs": [],
   "source": [
    "# from datetime import date, datetime, time, timedelta\n",
    "# from dateutil.relativedelta import relativedelta\n",
    "# from functools import reduce\n",
    "# import getopt\n",
    "# from itertools import chain, zip_longest, product\n",
    "# import os\n",
    "# import re\n",
    "# import sys\n",
    "# from textwrap import dedent\n",
    "# import threading\n",
    "# import time\n",
    "# import urllib\n",
    "\n",
    "# %matplotlib inline\n",
    "# import matplotlib.pyplot as plt\n",
    "# import numpy as np\n",
    "import pandas as pd\n",
    "# import pandas.io.sql as psql\n",
    "# Add function from other script python\n",
    "\n",
    "from config import Config,\\\n",
    "                    config_gen_data_label\n",
    "from src.mapping import mapping_csv\n",
    "from src.merge import merge\n",
    "from src.gen_feedback import feedback_and_recommend\n",
    "from src.gen_label_data import gen_label_data"
   ]
  },
  {
   "cell_type": "code",
   "execution_count": null,
   "metadata": {
    "ExecuteTime": {
     "end_time": "2019-03-19T00:51:36.719993Z",
     "start_time": "2019-03-19T00:51:36.675005Z"
    }
   },
   "outputs": [],
   "source": []
  },
  {
   "cell_type": "code",
   "execution_count": 3,
   "metadata": {},
   "outputs": [],
   "source": [
    "root_round_1 = './data/Round1'\n",
    "root_round_2 = './data/Round2'\n",
    "\n",
    "# Config(root, round_nums)\n",
    "config_round_1 = Config(root_round_1, 1)\n",
    "config_round_2 = Config(root_round_2, 2)\n",
    "config_gen_data = config_gen_data_label(root_round_1,root_round_2)"
   ]
  },
  {
   "cell_type": "markdown",
   "metadata": {},
   "source": [
    "# Round 1"
   ]
  },
  {
   "cell_type": "code",
   "execution_count": null,
   "metadata": {},
   "outputs": [],
   "source": []
  },
  {
   "cell_type": "markdown",
   "metadata": {},
   "source": [
    "### Merge Label Two Team - Part 1"
   ]
  },
  {
   "cell_type": "code",
   "execution_count": 4,
   "metadata": {
    "ExecuteTime": {
     "end_time": "2017-12-20T16:17:54.186276Z",
     "start_time": "2017-12-20T16:17:54.078653Z"
    }
   },
   "outputs": [
    {
     "name": "stderr",
     "output_type": "stream",
     "text": [
      "4it [00:00, 30.97it/s]"
     ]
    },
    {
     "name": "stdout",
     "output_type": "stream",
     "text": [
      "Output will be saved at: data/Round1/Out/1_merged\n"
     ]
    },
    {
     "name": "stderr",
     "output_type": "stream",
     "text": [
      "201it [00:06, 32.33it/s]\n"
     ]
    }
   ],
   "source": [
    "merge(config_round_1, 1)"
   ]
  },
  {
   "cell_type": "markdown",
   "metadata": {},
   "source": [
    "### Feedback Label to Two Team"
   ]
  },
  {
   "cell_type": "code",
   "execution_count": 5,
   "metadata": {
    "ExecuteTime": {
     "end_time": "2018-07-10T14:06:14.580378Z",
     "start_time": "2018-07-10T14:06:14.549192Z"
    }
   },
   "outputs": [
    {
     "name": "stderr",
     "output_type": "stream",
     "text": [
      "3it [00:00, 27.37it/s]"
     ]
    },
    {
     "name": "stdout",
     "output_type": "stream",
     "text": [
      "Output will be saved at: data/Round1/Out/1_feedback\n",
      "===ADD FEEDBACK===\n"
     ]
    },
    {
     "name": "stderr",
     "output_type": "stream",
     "text": [
      "55it [00:02, 26.75it/s]"
     ]
    },
    {
     "name": "stdout",
     "output_type": "stream",
     "text": [
      "[Errno 2] No such file or directory: 'data/Round1/In/1_labels/Team1/57.MOV.csv'\n"
     ]
    },
    {
     "name": "stderr",
     "output_type": "stream",
     "text": [
      "66it [00:02, 26.32it/s]"
     ]
    },
    {
     "name": "stdout",
     "output_type": "stream",
     "text": [
      "[Errno 2] No such file or directory: 'data/Round1/In/1_labels/Team1/68.MOV.csv'\n"
     ]
    },
    {
     "name": "stderr",
     "output_type": "stream",
     "text": [
      "92it [00:03, 33.23it/s]"
     ]
    },
    {
     "name": "stdout",
     "output_type": "stream",
     "text": [
      "[Errno 2] No such file or directory: 'data/Round1/In/1_labels/Team1/86.MOV.csv'\n",
      "[Errno 2] No such file or directory: 'data/Round1/In/1_labels/Team1/87.MOV.csv'\n",
      "[Errno 2] No such file or directory: 'data/Round1/In/1_labels/Team1/89.MOV.csv'\n",
      "[Errno 2] No such file or directory: 'data/Round1/In/1_labels/Team1/90.MOV.csv'\n",
      "[Errno 2] No such file or directory: 'data/Round1/In/1_labels/Team1/91.MOV.csv'\n",
      "[Errno 2] No such file or directory: 'data/Round1/In/1_labels/Team1/92.MOV.csv'\n",
      "[Errno 2] No such file or directory: 'data/Round1/In/1_labels/Team1/93.MOV.csv'\n",
      "[Errno 2] No such file or directory: 'data/Round1/In/1_labels/Team1/94.MOV.csv'\n",
      "[Errno 2] No such file or directory: 'data/Round1/In/1_labels/Team1/95.MOV.csv'\n",
      "[Errno 2] No such file or directory: 'data/Round1/In/1_labels/Team1/96.MOV.csv'\n"
     ]
    },
    {
     "name": "stderr",
     "output_type": "stream",
     "text": [
      "139it [00:04, 31.14it/s]"
     ]
    },
    {
     "name": "stdout",
     "output_type": "stream",
     "text": [
      "[Errno 2] No such file or directory: 'data/Round1/In/1_labels/Team1/146.MOV.csv'\n"
     ]
    },
    {
     "name": "stderr",
     "output_type": "stream",
     "text": [
      "151it [00:05, 30.14it/s]"
     ]
    },
    {
     "name": "stdout",
     "output_type": "stream",
     "text": [
      "[Errno 2] No such file or directory: 'data/Round1/In/1_labels/Team1/164.MOV.csv'\n"
     ]
    },
    {
     "name": "stderr",
     "output_type": "stream",
     "text": [
      "168it [00:05, 33.23it/s]"
     ]
    },
    {
     "name": "stdout",
     "output_type": "stream",
     "text": [
      "[Errno 2] No such file or directory: 'data/Round1/In/1_labels/Team1/183.MOV.csv'\n"
     ]
    },
    {
     "name": "stderr",
     "output_type": "stream",
     "text": [
      "180it [00:06, 31.06it/s]"
     ]
    },
    {
     "name": "stdout",
     "output_type": "stream",
     "text": [
      "[Errno 2] No such file or directory: 'data/Round1/In/1_labels/Team1/192.MOV.csv'\n"
     ]
    },
    {
     "name": "stderr",
     "output_type": "stream",
     "text": [
      "189it [00:06, 31.43it/s]"
     ]
    },
    {
     "name": "stdout",
     "output_type": "stream",
     "text": [
      "[Errno 2] No such file or directory: 'data/Round1/In/1_labels/Team1/200.MOV.csv'\n"
     ]
    },
    {
     "name": "stderr",
     "output_type": "stream",
     "text": [
      "201it [00:07, 28.55it/s]\n",
      "6it [00:00, 56.56it/s]"
     ]
    },
    {
     "name": "stdout",
     "output_type": "stream",
     "text": [
      "===ADD RECOMMEND===\n"
     ]
    },
    {
     "name": "stderr",
     "output_type": "stream",
     "text": [
      "57it [00:01, 53.10it/s]"
     ]
    },
    {
     "name": "stdout",
     "output_type": "stream",
     "text": [
      "[Errno 2] File b'data/Round1/Out/1_feedback/Team1/57.csv' does not exist: b'data/Round1/Out/1_feedback/Team1/57.csv'\n",
      "[Errno 2] File b'data/Round1/Out/1_feedback/Team1/68.csv' does not exist: b'data/Round1/Out/1_feedback/Team1/68.csv'\n"
     ]
    },
    {
     "name": "stderr",
     "output_type": "stream",
     "text": [
      "98it [00:01, 57.15it/s]"
     ]
    },
    {
     "name": "stdout",
     "output_type": "stream",
     "text": [
      "[Errno 2] File b'data/Round1/Out/1_feedback/Team1/86.csv' does not exist: b'data/Round1/Out/1_feedback/Team1/86.csv'\n",
      "[Errno 2] File b'data/Round1/Out/1_feedback/Team1/87.csv' does not exist: b'data/Round1/Out/1_feedback/Team1/87.csv'\n",
      "[Errno 2] File b'data/Round1/Out/1_feedback/Team1/89.csv' does not exist: b'data/Round1/Out/1_feedback/Team1/89.csv'\n",
      "[Errno 2] File b'data/Round1/Out/1_feedback/Team1/90.csv' does not exist: b'data/Round1/Out/1_feedback/Team1/90.csv'\n",
      "[Errno 2] File b'data/Round1/Out/1_feedback/Team1/91.csv' does not exist: b'data/Round1/Out/1_feedback/Team1/91.csv'\n",
      "[Errno 2] File b'data/Round1/Out/1_feedback/Team1/92.csv' does not exist: b'data/Round1/Out/1_feedback/Team1/92.csv'\n",
      "[Errno 2] File b'data/Round1/Out/1_feedback/Team1/93.csv' does not exist: b'data/Round1/Out/1_feedback/Team1/93.csv'\n",
      "[Errno 2] File b'data/Round1/Out/1_feedback/Team1/94.csv' does not exist: b'data/Round1/Out/1_feedback/Team1/94.csv'\n",
      "[Errno 2] File b'data/Round1/Out/1_feedback/Team1/95.csv' does not exist: b'data/Round1/Out/1_feedback/Team1/95.csv'\n",
      "[Errno 2] File b'data/Round1/Out/1_feedback/Team1/96.csv' does not exist: b'data/Round1/Out/1_feedback/Team1/96.csv'\n"
     ]
    },
    {
     "name": "stderr",
     "output_type": "stream",
     "text": [
      "143it [00:02, 53.50it/s]"
     ]
    },
    {
     "name": "stdout",
     "output_type": "stream",
     "text": [
      "[Errno 2] File b'data/Round1/Out/1_feedback/Team1/146.csv' does not exist: b'data/Round1/Out/1_feedback/Team1/146.csv'\n"
     ]
    },
    {
     "name": "stderr",
     "output_type": "stream",
     "text": [
      "155it [00:02, 50.57it/s]"
     ]
    },
    {
     "name": "stdout",
     "output_type": "stream",
     "text": [
      "[Errno 2] File b'data/Round1/Out/1_feedback/Team1/164.csv' does not exist: b'data/Round1/Out/1_feedback/Team1/164.csv'\n"
     ]
    },
    {
     "name": "stderr",
     "output_type": "stream",
     "text": [
      "174it [00:03, 54.44it/s]"
     ]
    },
    {
     "name": "stdout",
     "output_type": "stream",
     "text": [
      "[Errno 2] File b'data/Round1/Out/1_feedback/Team1/183.csv' does not exist: b'data/Round1/Out/1_feedback/Team1/183.csv'\n",
      "[Errno 2] File b'data/Round1/Out/1_feedback/Team1/192.csv' does not exist: b'data/Round1/Out/1_feedback/Team1/192.csv'\n"
     ]
    },
    {
     "name": "stderr",
     "output_type": "stream",
     "text": [
      "188it [00:03, 57.56it/s]"
     ]
    },
    {
     "name": "stdout",
     "output_type": "stream",
     "text": [
      "[Errno 2] File b'data/Round1/Out/1_feedback/Team1/200.csv' does not exist: b'data/Round1/Out/1_feedback/Team1/200.csv'\n"
     ]
    },
    {
     "name": "stderr",
     "output_type": "stream",
     "text": [
      "201it [00:03, 55.79it/s]\n"
     ]
    }
   ],
   "source": [
    "feedback_and_recommend(config_round_1)"
   ]
  },
  {
   "cell_type": "markdown",
   "metadata": {},
   "source": [
    "### Merge Label Two Team - Part 2"
   ]
  },
  {
   "cell_type": "code",
   "execution_count": 6,
   "metadata": {
    "ExecuteTime": {
     "end_time": "2018-11-30T16:58:04.065863Z",
     "start_time": "2018-11-30T16:58:04.018676Z"
    }
   },
   "outputs": [
    {
     "name": "stderr",
     "output_type": "stream",
     "text": [
      "3it [00:00, 28.42it/s]"
     ]
    },
    {
     "name": "stdout",
     "output_type": "stream",
     "text": [
      "Output will be saved at:data/Round1/Out/2_merged\n"
     ]
    },
    {
     "name": "stderr",
     "output_type": "stream",
     "text": [
      "201it [00:06, 28.78it/s]\n"
     ]
    }
   ],
   "source": [
    "merge(config_round_1, 2)"
   ]
  },
  {
   "cell_type": "markdown",
   "metadata": {
    "ExecuteTime": {
     "end_time": "2016-10-04T16:32:23.703993",
     "start_time": "2016-10-04T16:32:23.693514"
    }
   },
   "source": [
    "### Check Quality and Quatity"
   ]
  },
  {
   "cell_type": "code",
   "execution_count": null,
   "metadata": {
    "ExecuteTime": {
     "end_time": "2018-11-30T16:58:05.135783Z",
     "start_time": "2018-11-30T16:58:05.090844Z"
    },
    "code_folding": [
     1,
     65,
     93
    ]
   },
   "outputs": [],
   "source": []
  },
  {
   "cell_type": "code",
   "execution_count": null,
   "metadata": {},
   "outputs": [],
   "source": []
  },
  {
   "cell_type": "markdown",
   "metadata": {},
   "source": [
    "# Round 2"
   ]
  },
  {
   "cell_type": "code",
   "execution_count": null,
   "metadata": {},
   "outputs": [],
   "source": []
  },
  {
   "cell_type": "markdown",
   "metadata": {},
   "source": [
    "### Generate Mapping csv"
   ]
  },
  {
   "cell_type": "code",
   "execution_count": 7,
   "metadata": {},
   "outputs": [],
   "source": [
    "df_round_2 = mapping_csv(f'./data/Round1/Mapping_round_1.csv', f'./data/Round1/Out/2_merged/')\n",
    "df_round_2.to_csv('./data/Round2/Mapping_round_2.csv', index=False)"
   ]
  },
  {
   "cell_type": "markdown",
   "metadata": {},
   "source": [
    "### Merge Label Two Team - Part 1"
   ]
  },
  {
   "cell_type": "code",
   "execution_count": 8,
   "metadata": {},
   "outputs": [
    {
     "name": "stderr",
     "output_type": "stream",
     "text": [
      "0it [00:00, ?it/s]"
     ]
    },
    {
     "name": "stdout",
     "output_type": "stream",
     "text": [
      "Output will be saved at: data/Round2/Out/1_merged\n"
     ]
    },
    {
     "name": "stderr",
     "output_type": "stream",
     "text": [
      "814it [00:42, 19.33it/s]\n"
     ]
    }
   ],
   "source": [
    "merge(config_round_2, 1)"
   ]
  },
  {
   "cell_type": "markdown",
   "metadata": {},
   "source": [
    "### Feedback Label to Two Team"
   ]
  },
  {
   "cell_type": "code",
   "execution_count": 9,
   "metadata": {},
   "outputs": [
    {
     "name": "stderr",
     "output_type": "stream",
     "text": [
      "2it [00:00, 16.26it/s]"
     ]
    },
    {
     "name": "stdout",
     "output_type": "stream",
     "text": [
      "Output will be saved at: data/Round2/Out/1_feedback\n",
      "===ADD FEEDBACK===\n"
     ]
    },
    {
     "name": "stderr",
     "output_type": "stream",
     "text": [
      "75it [00:03, 29.26it/s]"
     ]
    },
    {
     "name": "stdout",
     "output_type": "stream",
     "text": [
      "[Errno 2] No such file or directory: 'data/Round2/In/1_labels/Team1/DG/69_0.MP4.csv'\n",
      "[Errno 2] No such file or directory: 'data/Round2/In/1_labels/Team1/TN/69_1.MP4.csv'\n",
      "[Errno 2] No such file or directory: 'data/Round2/In/1_labels/Team1/LC/69_2.MP4.csv'\n",
      "[Errno 2] No such file or directory: 'data/Round2/In/1_labels/Team1/FPN/69_3.MP4.csv'\n",
      "[Errno 2] No such file or directory: 'data/Round2/In/1_labels/Team1/LC/69_4.MP4.csv'\n",
      "[Errno 2] No such file or directory: 'data/Round2/In/1_labels/Team1/FPN/69_5.MP4.csv'\n",
      "[Errno 2] No such file or directory: 'data/Round2/In/1_labels/Team1/HB/69_6.MP4.csv'\n",
      "[Errno 2] No such file or directory: 'data/Round2/In/1_labels/Team1/FPN/69_7.MP4.csv'\n",
      "[Errno 2] No such file or directory: 'data/Round2/In/1_labels/Team1/HB/69_8.MP4.csv'\n",
      "[Errno 2] No such file or directory: 'data/Round2/In/1_labels/Team1/LN/69_9.MP4.csv'\n",
      "[Errno 2] No such file or directory: 'data/Round2/In/1_labels/Team1/DX/69_10.MP4.csv'\n"
     ]
    },
    {
     "name": "stderr",
     "output_type": "stream",
     "text": [
      "212it [00:10, 17.92it/s]"
     ]
    },
    {
     "name": "stdout",
     "output_type": "stream",
     "text": [
      "[Errno 2] No such file or directory: 'data/Round2/In/1_labels/Team2/CVS/150_1.MP4.csv'\n"
     ]
    },
    {
     "name": "stderr",
     "output_type": "stream",
     "text": [
      "259it [00:12, 21.35it/s]"
     ]
    },
    {
     "name": "stdout",
     "output_type": "stream",
     "text": [
      "[Errno 2] No such file or directory: 'data/Round2/In/1_labels/Team1/DX/50_0.MP4.csv'\n"
     ]
    },
    {
     "name": "stderr",
     "output_type": "stream",
     "text": [
      "283it [00:14, 24.01it/s]"
     ]
    },
    {
     "name": "stdout",
     "output_type": "stream",
     "text": [
      "[Errno 2] No such file or directory: 'data/Round2/In/1_labels/Team1/TN/137_1.MP4.csv'\n"
     ]
    },
    {
     "name": "stderr",
     "output_type": "stream",
     "text": [
      "511it [00:24, 18.31it/s]"
     ]
    },
    {
     "name": "stdout",
     "output_type": "stream",
     "text": [
      "[Errno 2] No such file or directory: 'data/Round2/In/1_labels/Team1/CVS/111_0.MP4.csv'\n",
      "[Errno 2] No such file or directory: 'data/Round2/In/1_labels/Team1/TN/111_1.MP4.csv'\n",
      "[Errno 2] No such file or directory: 'data/Round2/In/1_labels/Team1/TN/111_2.MP4.csv'\n"
     ]
    },
    {
     "name": "stderr",
     "output_type": "stream",
     "text": [
      "526it [00:25, 22.80it/s]"
     ]
    },
    {
     "name": "stdout",
     "output_type": "stream",
     "text": [
      "[Errno 2] No such file or directory: 'data/Round2/In/1_labels/Team1/LN/104_5.MP4.csv'\n"
     ]
    },
    {
     "name": "stderr",
     "output_type": "stream",
     "text": [
      "606it [00:28, 29.83it/s]"
     ]
    },
    {
     "name": "stdout",
     "output_type": "stream",
     "text": [
      "[Errno 2] No such file or directory: 'data/Round2/In/1_labels/Team1/DG/74_0.MP4.csv'\n",
      "[Errno 2] No such file or directory: 'data/Round2/In/1_labels/Team1/FPN/74_1.MP4.csv'\n",
      "[Errno 2] No such file or directory: 'data/Round2/In/1_labels/Team1/LC/74_2.MP4.csv'\n",
      "[Errno 2] No such file or directory: 'data/Round2/In/1_labels/Team1/FPN/74_3.MP4.csv'\n",
      "[Errno 2] No such file or directory: 'data/Round2/In/1_labels/Team1/LC/74_4.MP4.csv'\n",
      "[Errno 2] No such file or directory: 'data/Round2/In/1_labels/Team1/TN/74_5.MP4.csv'\n",
      "[Errno 2] No such file or directory: 'data/Round2/In/1_labels/Team1/LC/74_6.MP4.csv'\n",
      "[Errno 2] No such file or directory: 'data/Round2/In/1_labels/Team1/DG/74_7.MP4.csv'\n",
      "[Errno 2] No such file or directory: 'data/Round2/In/1_labels/Team1/LC/74_8.MP4.csv'\n",
      "[Errno 2] No such file or directory: 'data/Round2/In/1_labels/Team1/FPN/74_9.MP4.csv'\n",
      "[Errno 2] No such file or directory: 'data/Round2/In/1_labels/Team1/HB/74_10.MP4.csv'\n",
      "[Errno 2] No such file or directory: 'data/Round2/In/1_labels/Team1/DG/74_11.MP4.csv'\n",
      "[Errno 2] No such file or directory: 'data/Round2/In/1_labels/Team1/LN/74_12.MP4.csv'\n"
     ]
    },
    {
     "name": "stderr",
     "output_type": "stream",
     "text": [
      "624it [00:29, 25.50it/s]"
     ]
    },
    {
     "name": "stdout",
     "output_type": "stream",
     "text": [
      "[Errno 2] No such file or directory: 'data/Round2/In/1_labels/Team1/TN/175_0.MP4.csv'\n",
      "[Errno 2] No such file or directory: 'data/Round2/In/1_labels/Team1/DX/175_1.MP4.csv'\n"
     ]
    },
    {
     "name": "stderr",
     "output_type": "stream",
     "text": [
      "663it [00:31, 28.98it/s]"
     ]
    },
    {
     "name": "stdout",
     "output_type": "stream",
     "text": [
      "[Errno 2] No such file or directory: 'data/Round2/In/1_labels/Team1/DX/63_0.MP4.csv'\n",
      "[Errno 2] No such file or directory: 'data/Round2/In/1_labels/Team1/FPN/63_1.MP4.csv'\n",
      "[Errno 2] No such file or directory: 'data/Round2/In/1_labels/Team1/HB/63_2.MP4.csv'\n",
      "[Errno 2] No such file or directory: 'data/Round2/In/1_labels/Team1/DX/63_3.MP4.csv'\n",
      "[Errno 2] No such file or directory: 'data/Round2/In/1_labels/Team1/DX/63_4.MP4.csv'\n"
     ]
    },
    {
     "name": "stderr",
     "output_type": "stream",
     "text": [
      "716it [00:33, 36.47it/s]"
     ]
    },
    {
     "name": "stdout",
     "output_type": "stream",
     "text": [
      "[Errno 2] No such file or directory: 'data/Round2/In/1_labels/Team1/TN/73_0.MP4.csv'\n",
      "[Errno 2] No such file or directory: 'data/Round2/In/1_labels/Team1/DG/73_1.MP4.csv'\n",
      "[Errno 2] No such file or directory: 'data/Round2/In/1_labels/Team1/FPN/73_2.MP4.csv'\n",
      "[Errno 2] No such file or directory: 'data/Round2/In/1_labels/Team1/LC/73_3.MP4.csv'\n",
      "[Errno 2] No such file or directory: 'data/Round2/In/1_labels/Team1/FPN/73_4.MP4.csv'\n",
      "[Errno 2] No such file or directory: 'data/Round2/In/1_labels/Team1/LC/73_5.MP4.csv'\n",
      "[Errno 2] No such file or directory: 'data/Round2/In/1_labels/Team1/HB/73_6.MP4.csv'\n"
     ]
    },
    {
     "name": "stderr",
     "output_type": "stream",
     "text": [
      "736it [00:33, 32.78it/s]"
     ]
    },
    {
     "name": "stdout",
     "output_type": "stream",
     "text": [
      "[Errno 2] No such file or directory: 'data/Round2/In/1_labels/Team1/DG/72_0.MP4.csv'\n",
      "[Errno 2] No such file or directory: 'data/Round2/In/1_labels/Team1/TN/72_1.MP4.csv'\n",
      "[Errno 2] No such file or directory: 'data/Round2/In/1_labels/Team1/TN/72_2.MP4.csv'\n",
      "[Errno 2] No such file or directory: 'data/Round2/In/1_labels/Team1/FPN/72_3.MP4.csv'\n",
      "[Errno 2] No such file or directory: 'data/Round2/In/1_labels/Team1/LN/72_4.MP4.csv'\n"
     ]
    },
    {
     "name": "stderr",
     "output_type": "stream",
     "text": [
      "799it [00:35, 37.08it/s]"
     ]
    },
    {
     "name": "stdout",
     "output_type": "stream",
     "text": [
      "[Errno 2] No such file or directory: 'data/Round2/In/1_labels/Team2/LN/65_6.MP4.csv'\n",
      "[Errno 2] No such file or directory: 'data/Round2/In/1_labels/Team1/DG/71_0.MP4.csv'\n",
      "[Errno 2] No such file or directory: 'data/Round2/In/1_labels/Team1/TN/71_1.MP4.csv'\n",
      "[Errno 2] No such file or directory: 'data/Round2/In/1_labels/Team1/TN/71_2.MP4.csv'\n",
      "[Errno 2] No such file or directory: 'data/Round2/In/1_labels/Team1/TN/71_3.MP4.csv'\n",
      "[Errno 2] No such file or directory: 'data/Round2/In/1_labels/Team1/FPN/71_4.MP4.csv'\n",
      "[Errno 2] No such file or directory: 'data/Round2/In/1_labels/Team1/LC/71_5.MP4.csv'\n",
      "[Errno 2] No such file or directory: 'data/Round2/In/1_labels/Team1/FPN/71_6.MP4.csv'\n",
      "[Errno 2] No such file or directory: 'data/Round2/In/1_labels/Team1/DG/71_7.MP4.csv'\n",
      "[Errno 2] No such file or directory: 'data/Round2/In/1_labels/Team1/HB/71_8.MP4.csv'\n",
      "[Errno 2] No such file or directory: 'data/Round2/In/1_labels/Team1/LN/71_9.MP4.csv'\n"
     ]
    },
    {
     "name": "stderr",
     "output_type": "stream",
     "text": [
      "814it [00:36, 22.24it/s]\n",
      "4it [00:00, 32.91it/s]"
     ]
    },
    {
     "name": "stdout",
     "output_type": "stream",
     "text": [
      "===ADD RECOMMEND===\n"
     ]
    },
    {
     "name": "stderr",
     "output_type": "stream",
     "text": [
      "76it [00:01, 57.28it/s]"
     ]
    },
    {
     "name": "stdout",
     "output_type": "stream",
     "text": [
      "[Errno 2] File b'data/Round2/Out/1_feedback/Team1/DG/69_0.csv' does not exist: b'data/Round2/Out/1_feedback/Team1/DG/69_0.csv'\n",
      "[Errno 2] File b'data/Round2/Out/1_feedback/Team1/TN/69_1.csv' does not exist: b'data/Round2/Out/1_feedback/Team1/TN/69_1.csv'\n",
      "[Errno 2] File b'data/Round2/Out/1_feedback/Team1/LC/69_2.csv' does not exist: b'data/Round2/Out/1_feedback/Team1/LC/69_2.csv'\n",
      "[Errno 2] File b'data/Round2/Out/1_feedback/Team1/FPN/69_3.csv' does not exist: b'data/Round2/Out/1_feedback/Team1/FPN/69_3.csv'\n",
      "[Errno 2] File b'data/Round2/Out/1_feedback/Team1/LC/69_4.csv' does not exist: b'data/Round2/Out/1_feedback/Team1/LC/69_4.csv'\n",
      "[Errno 2] File b'data/Round2/Out/1_feedback/Team1/FPN/69_5.csv' does not exist: b'data/Round2/Out/1_feedback/Team1/FPN/69_5.csv'\n",
      "[Errno 2] File b'data/Round2/Out/1_feedback/Team1/HB/69_6.csv' does not exist: b'data/Round2/Out/1_feedback/Team1/HB/69_6.csv'\n",
      "[Errno 2] File b'data/Round2/Out/1_feedback/Team1/FPN/69_7.csv' does not exist: b'data/Round2/Out/1_feedback/Team1/FPN/69_7.csv'\n",
      "[Errno 2] File b'data/Round2/Out/1_feedback/Team1/HB/69_8.csv' does not exist: b'data/Round2/Out/1_feedback/Team1/HB/69_8.csv'\n",
      "[Errno 2] File b'data/Round2/Out/1_feedback/Team1/LN/69_9.csv' does not exist: b'data/Round2/Out/1_feedback/Team1/LN/69_9.csv'\n",
      "[Errno 2] File b'data/Round2/Out/1_feedback/Team1/DX/69_10.csv' does not exist: b'data/Round2/Out/1_feedback/Team1/DX/69_10.csv'\n"
     ]
    },
    {
     "name": "stderr",
     "output_type": "stream",
     "text": [
      "222it [00:04, 50.53it/s]"
     ]
    },
    {
     "name": "stdout",
     "output_type": "stream",
     "text": [
      "[Errno 2] File b'data/Round2/Out/1_feedback/Team1/CVS/150_1.csv' does not exist: b'data/Round2/Out/1_feedback/Team1/CVS/150_1.csv'\n"
     ]
    },
    {
     "name": "stderr",
     "output_type": "stream",
     "text": [
      "265it [00:05, 49.90it/s]"
     ]
    },
    {
     "name": "stdout",
     "output_type": "stream",
     "text": [
      "[Errno 2] File b'data/Round2/Out/1_feedback/Team1/DX/50_0.csv' does not exist: b'data/Round2/Out/1_feedback/Team1/DX/50_0.csv'\n"
     ]
    },
    {
     "name": "stderr",
     "output_type": "stream",
     "text": [
      "288it [00:06, 45.37it/s]"
     ]
    },
    {
     "name": "stdout",
     "output_type": "stream",
     "text": [
      "[Errno 2] File b'data/Round2/Out/1_feedback/Team1/TN/137_1.csv' does not exist: b'data/Round2/Out/1_feedback/Team1/TN/137_1.csv'\n"
     ]
    },
    {
     "name": "stderr",
     "output_type": "stream",
     "text": [
      "513it [00:11, 60.86it/s]"
     ]
    },
    {
     "name": "stdout",
     "output_type": "stream",
     "text": [
      "[Errno 2] File b'data/Round2/Out/1_feedback/Team1/CVS/111_0.csv' does not exist: b'data/Round2/Out/1_feedback/Team1/CVS/111_0.csv'\n",
      "[Errno 2] File b'data/Round2/Out/1_feedback/Team1/TN/111_1.csv' does not exist: b'data/Round2/Out/1_feedback/Team1/TN/111_1.csv'\n",
      "[Errno 2] File b'data/Round2/Out/1_feedback/Team1/TN/111_2.csv' does not exist: b'data/Round2/Out/1_feedback/Team1/TN/111_2.csv'\n"
     ]
    },
    {
     "name": "stderr",
     "output_type": "stream",
     "text": [
      "532it [00:11, 48.63it/s]"
     ]
    },
    {
     "name": "stdout",
     "output_type": "stream",
     "text": [
      "[Errno 2] File b'data/Round2/Out/1_feedback/Team1/LN/104_5.csv' does not exist: b'data/Round2/Out/1_feedback/Team1/LN/104_5.csv'\n"
     ]
    },
    {
     "name": "stderr",
     "output_type": "stream",
     "text": [
      "609it [00:12, 66.70it/s]"
     ]
    },
    {
     "name": "stdout",
     "output_type": "stream",
     "text": [
      "[Errno 2] File b'data/Round2/Out/1_feedback/Team1/DG/74_0.csv' does not exist: b'data/Round2/Out/1_feedback/Team1/DG/74_0.csv'\n",
      "[Errno 2] File b'data/Round2/Out/1_feedback/Team1/FPN/74_1.csv' does not exist: b'data/Round2/Out/1_feedback/Team1/FPN/74_1.csv'\n",
      "[Errno 2] File b'data/Round2/Out/1_feedback/Team1/LC/74_2.csv' does not exist: b'data/Round2/Out/1_feedback/Team1/LC/74_2.csv'\n",
      "[Errno 2] File b'data/Round2/Out/1_feedback/Team1/FPN/74_3.csv' does not exist: b'data/Round2/Out/1_feedback/Team1/FPN/74_3.csv'\n",
      "[Errno 2] File b'data/Round2/Out/1_feedback/Team1/LC/74_4.csv' does not exist: b'data/Round2/Out/1_feedback/Team1/LC/74_4.csv'\n",
      "[Errno 2] File b'data/Round2/Out/1_feedback/Team1/TN/74_5.csv' does not exist: b'data/Round2/Out/1_feedback/Team1/TN/74_5.csv'\n",
      "[Errno 2] File b'data/Round2/Out/1_feedback/Team1/LC/74_6.csv' does not exist: b'data/Round2/Out/1_feedback/Team1/LC/74_6.csv'\n",
      "[Errno 2] File b'data/Round2/Out/1_feedback/Team1/DG/74_7.csv' does not exist: b'data/Round2/Out/1_feedback/Team1/DG/74_7.csv'\n",
      "[Errno 2] File b'data/Round2/Out/1_feedback/Team1/LC/74_8.csv' does not exist: b'data/Round2/Out/1_feedback/Team1/LC/74_8.csv'\n",
      "[Errno 2] File b'data/Round2/Out/1_feedback/Team1/FPN/74_9.csv' does not exist: b'data/Round2/Out/1_feedback/Team1/FPN/74_9.csv'\n",
      "[Errno 2] File b'data/Round2/Out/1_feedback/Team1/HB/74_10.csv' does not exist: b'data/Round2/Out/1_feedback/Team1/HB/74_10.csv'\n",
      "[Errno 2] File b'data/Round2/Out/1_feedback/Team1/DG/74_11.csv' does not exist: b'data/Round2/Out/1_feedback/Team1/DG/74_11.csv'\n",
      "[Errno 2] File b'data/Round2/Out/1_feedback/Team1/LN/74_12.csv' does not exist: b'data/Round2/Out/1_feedback/Team1/LN/74_12.csv'\n"
     ]
    },
    {
     "name": "stderr",
     "output_type": "stream",
     "text": [
      "626it [00:13, 52.49it/s]"
     ]
    },
    {
     "name": "stdout",
     "output_type": "stream",
     "text": [
      "[Errno 2] File b'data/Round2/Out/1_feedback/Team1/TN/175_0.csv' does not exist: b'data/Round2/Out/1_feedback/Team1/TN/175_0.csv'\n",
      "[Errno 2] File b'data/Round2/Out/1_feedback/Team1/DX/175_1.csv' does not exist: b'data/Round2/Out/1_feedback/Team1/DX/175_1.csv'\n"
     ]
    },
    {
     "name": "stderr",
     "output_type": "stream",
     "text": [
      "668it [00:14, 54.93it/s]"
     ]
    },
    {
     "name": "stdout",
     "output_type": "stream",
     "text": [
      "[Errno 2] File b'data/Round2/Out/1_feedback/Team1/DX/63_0.csv' does not exist: b'data/Round2/Out/1_feedback/Team1/DX/63_0.csv'\n",
      "[Errno 2] File b'data/Round2/Out/1_feedback/Team1/FPN/63_1.csv' does not exist: b'data/Round2/Out/1_feedback/Team1/FPN/63_1.csv'\n",
      "[Errno 2] File b'data/Round2/Out/1_feedback/Team1/HB/63_2.csv' does not exist: b'data/Round2/Out/1_feedback/Team1/HB/63_2.csv'\n",
      "[Errno 2] File b'data/Round2/Out/1_feedback/Team1/DX/63_3.csv' does not exist: b'data/Round2/Out/1_feedback/Team1/DX/63_3.csv'\n",
      "[Errno 2] File b'data/Round2/Out/1_feedback/Team1/DX/63_4.csv' does not exist: b'data/Round2/Out/1_feedback/Team1/DX/63_4.csv'\n"
     ]
    },
    {
     "name": "stderr",
     "output_type": "stream",
     "text": [
      "725it [00:14, 59.62it/s]"
     ]
    },
    {
     "name": "stdout",
     "output_type": "stream",
     "text": [
      "[Errno 2] File b'data/Round2/Out/1_feedback/Team1/TN/73_0.csv' does not exist: b'data/Round2/Out/1_feedback/Team1/TN/73_0.csv'\n",
      "[Errno 2] File b'data/Round2/Out/1_feedback/Team1/DG/73_1.csv' does not exist: b'data/Round2/Out/1_feedback/Team1/DG/73_1.csv'\n",
      "[Errno 2] File b'data/Round2/Out/1_feedback/Team1/FPN/73_2.csv' does not exist: b'data/Round2/Out/1_feedback/Team1/FPN/73_2.csv'\n",
      "[Errno 2] File b'data/Round2/Out/1_feedback/Team1/LC/73_3.csv' does not exist: b'data/Round2/Out/1_feedback/Team1/LC/73_3.csv'\n",
      "[Errno 2] File b'data/Round2/Out/1_feedback/Team1/FPN/73_4.csv' does not exist: b'data/Round2/Out/1_feedback/Team1/FPN/73_4.csv'\n",
      "[Errno 2] File b'data/Round2/Out/1_feedback/Team1/LC/73_5.csv' does not exist: b'data/Round2/Out/1_feedback/Team1/LC/73_5.csv'\n",
      "[Errno 2] File b'data/Round2/Out/1_feedback/Team1/HB/73_6.csv' does not exist: b'data/Round2/Out/1_feedback/Team1/HB/73_6.csv'\n"
     ]
    },
    {
     "name": "stderr",
     "output_type": "stream",
     "text": [
      "735it [00:15, 65.58it/s]"
     ]
    },
    {
     "name": "stdout",
     "output_type": "stream",
     "text": [
      "[Errno 2] File b'data/Round2/Out/1_feedback/Team1/DG/72_0.csv' does not exist: b'data/Round2/Out/1_feedback/Team1/DG/72_0.csv'\n",
      "[Errno 2] File b'data/Round2/Out/1_feedback/Team1/TN/72_1.csv' does not exist: b'data/Round2/Out/1_feedback/Team1/TN/72_1.csv'\n",
      "[Errno 2] File b'data/Round2/Out/1_feedback/Team1/TN/72_2.csv' does not exist: b'data/Round2/Out/1_feedback/Team1/TN/72_2.csv'\n",
      "[Errno 2] File b'data/Round2/Out/1_feedback/Team1/FPN/72_3.csv' does not exist: b'data/Round2/Out/1_feedback/Team1/FPN/72_3.csv'\n",
      "[Errno 2] File b'data/Round2/Out/1_feedback/Team1/LN/72_4.csv' does not exist: b'data/Round2/Out/1_feedback/Team1/LN/72_4.csv'\n"
     ]
    },
    {
     "name": "stderr",
     "output_type": "stream",
     "text": [
      "800it [00:16, 61.60it/s]"
     ]
    },
    {
     "name": "stdout",
     "output_type": "stream",
     "text": [
      "[Errno 2] File b'data/Round2/Out/1_feedback/Team1/LN/65_6.csv' does not exist: b'data/Round2/Out/1_feedback/Team1/LN/65_6.csv'\n",
      "[Errno 2] File b'data/Round2/Out/1_feedback/Team1/DG/71_0.csv' does not exist: b'data/Round2/Out/1_feedback/Team1/DG/71_0.csv'\n",
      "[Errno 2] File b'data/Round2/Out/1_feedback/Team1/TN/71_1.csv' does not exist: b'data/Round2/Out/1_feedback/Team1/TN/71_1.csv'\n",
      "[Errno 2] File b'data/Round2/Out/1_feedback/Team1/TN/71_2.csv' does not exist: b'data/Round2/Out/1_feedback/Team1/TN/71_2.csv'\n",
      "[Errno 2] File b'data/Round2/Out/1_feedback/Team1/TN/71_3.csv' does not exist: b'data/Round2/Out/1_feedback/Team1/TN/71_3.csv'\n",
      "[Errno 2] File b'data/Round2/Out/1_feedback/Team1/FPN/71_4.csv' does not exist: b'data/Round2/Out/1_feedback/Team1/FPN/71_4.csv'\n",
      "[Errno 2] File b'data/Round2/Out/1_feedback/Team1/LC/71_5.csv' does not exist: b'data/Round2/Out/1_feedback/Team1/LC/71_5.csv'\n",
      "[Errno 2] File b'data/Round2/Out/1_feedback/Team1/FPN/71_6.csv' does not exist: b'data/Round2/Out/1_feedback/Team1/FPN/71_6.csv'\n",
      "[Errno 2] File b'data/Round2/Out/1_feedback/Team1/DG/71_7.csv' does not exist: b'data/Round2/Out/1_feedback/Team1/DG/71_7.csv'\n",
      "[Errno 2] File b'data/Round2/Out/1_feedback/Team1/HB/71_8.csv' does not exist: b'data/Round2/Out/1_feedback/Team1/HB/71_8.csv'\n",
      "[Errno 2] File b'data/Round2/Out/1_feedback/Team1/LN/71_9.csv' does not exist: b'data/Round2/Out/1_feedback/Team1/LN/71_9.csv'\n"
     ]
    },
    {
     "name": "stderr",
     "output_type": "stream",
     "text": [
      "814it [00:16, 49.20it/s]\n"
     ]
    }
   ],
   "source": [
    "feedback_and_recommend(config_round_2)"
   ]
  },
  {
   "cell_type": "markdown",
   "metadata": {},
   "source": [
    "### Merge Label Two Team - Part 2"
   ]
  },
  {
   "cell_type": "code",
   "execution_count": 10,
   "metadata": {},
   "outputs": [
    {
     "name": "stderr",
     "output_type": "stream",
     "text": [
      "0it [00:00, ?it/s]"
     ]
    },
    {
     "name": "stdout",
     "output_type": "stream",
     "text": [
      "Output will be saved at:data/Round2/Out/2_merged\n"
     ]
    },
    {
     "name": "stderr",
     "output_type": "stream",
     "text": [
      "814it [00:34, 23.79it/s]\n"
     ]
    }
   ],
   "source": [
    "merge(config_round_2, 2)"
   ]
  },
  {
   "cell_type": "markdown",
   "metadata": {},
   "source": [
    "### Check Quality and Quatity"
   ]
  },
  {
   "cell_type": "code",
   "execution_count": null,
   "metadata": {},
   "outputs": [],
   "source": []
  },
  {
   "cell_type": "markdown",
   "metadata": {},
   "source": [
    "### Gen Label Data"
   ]
  },
  {
   "cell_type": "code",
   "execution_count": 5,
   "metadata": {},
   "outputs": [
    {
     "name": "stderr",
     "output_type": "stream",
     "text": [
      "[autoreload of src.gen_label_data failed: Traceback (most recent call last):\n",
      "  File \"/Users/minhphan/miniconda3/envs/vinhr_env/lib/python3.6/site-packages/IPython/extensions/autoreload.py\", line 245, in check\n",
      "    superreload(m, reload, self.old_objects)\n",
      "  File \"/Users/minhphan/miniconda3/envs/vinhr_env/lib/python3.6/site-packages/IPython/extensions/autoreload.py\", line 434, in superreload\n",
      "    module = reload(module)\n",
      "  File \"/Users/minhphan/miniconda3/envs/vinhr_env/lib/python3.6/imp.py\", line 315, in reload\n",
      "    return importlib.reload(module)\n",
      "  File \"/Users/minhphan/miniconda3/envs/vinhr_env/lib/python3.6/importlib/__init__.py\", line 166, in reload\n",
      "    _bootstrap._exec(spec, module)\n",
      "  File \"<frozen importlib._bootstrap>\", line 618, in _exec\n",
      "  File \"<frozen importlib._bootstrap_external>\", line 678, in exec_module\n",
      "  File \"<frozen importlib._bootstrap>\", line 219, in _call_with_frames_removed\n",
      "  File \"/Users/minhphan/Desktop/VinHR/Data_labeling_scripts_final/src/gen_label_data.py\", line 17, in <module>\n",
      "    from utils import string_to_timedelta\n",
      "ModuleNotFoundError: No module named 'utils'\n",
      "]\n"
     ]
    },
    {
     "name": "stdout",
     "output_type": "stream",
     "text": [
      "0/814\n",
      "File not found data/Round2/In/watches/W_006 190918 14_04_30.csv\n",
      "1/814\n",
      "File not found data/Round2/In/watches/W_006 190918 14_04_30.csv\n",
      "2/814\n",
      "File not found data/Round2/In/watches/W_003 190918 10_13_24.csv\n",
      "3/814\n",
      "File not found data/Round2/In/watches/W_003 190918 10_13_24.csv\n",
      "4/814\n",
      "File not found data/Round2/In/watches/W_003 190918 10_13_24.csv\n",
      "5/814\n",
      "File not found data/Round2/In/watches/W_004 190919 13_03_54.csv\n",
      "6/814\n",
      "File not found data/Round2/In/watches/W_004 190919 13_03_54.csv\n",
      "7/814\n",
      "File not found data/Round2/In/watches/W_004 190919 13_03_54.csv\n",
      "8/814\n",
      "File not found data/Round2/In/watches/W_004 190919 13_03_54.csv\n",
      "9/814\n",
      "File not found data/Round2/In/watches/W_004 190919 13_03_54.csv\n",
      "10/814\n",
      "File not found data/Round2/In/watches/W_004 190919 13_03_54.csv\n",
      "11/814\n",
      "File not found data/Round2/In/watches/W_004 190919 13_03_54.csv\n",
      "12/814\n",
      "Video 12   2019-09-18 09:31:44.230000+07:00\n",
      "13   2019-09-18 09:33:00.070000+07:00\n",
      "14   2019-09-18 09:35:27.210000+07:00\n",
      "Name: Video_starttime, dtype: datetime64[ns, pytz.FixedOffset(420)], 3\n"
     ]
    },
    {
     "ename": "NameError",
     "evalue": "name 'string_to_timedelta' is not defined",
     "output_type": "error",
     "traceback": [
      "\u001b[0;31m---------------------------------------------------------------------------\u001b[0m",
      "\u001b[0;31mNameError\u001b[0m                                 Traceback (most recent call last)",
      "\u001b[0;32m<ipython-input-5-655c21c892aa>\u001b[0m in \u001b[0;36m<module>\u001b[0;34m\u001b[0m\n\u001b[0;32m----> 1\u001b[0;31m \u001b[0mgen_label_data\u001b[0m\u001b[0;34m(\u001b[0m\u001b[0mconfig_gen_data\u001b[0m\u001b[0;34m)\u001b[0m\u001b[0;34m\u001b[0m\u001b[0;34m\u001b[0m\u001b[0m\n\u001b[0m",
      "\u001b[0;32m~/Desktop/VinHR/Data_labeling_scripts_final/src/gen_label_data.py\u001b[0m in \u001b[0;36mgen_label_data\u001b[0;34m(config)\u001b[0m\n\u001b[1;32m    192\u001b[0m \u001b[0;34m\u001b[0m\u001b[0m\n\u001b[1;32m    193\u001b[0m                 \u001b[0mdf_label_round2\u001b[0m \u001b[0;34m=\u001b[0m \u001b[0mread_label_csv\u001b[0m\u001b[0;34m(\u001b[0m\u001b[0mf\u001b[0m\u001b[0;34m)\u001b[0m\u001b[0;34m\u001b[0m\u001b[0;34m\u001b[0m\u001b[0m\n\u001b[0;32m--> 194\u001b[0;31m \u001b[0;34m\u001b[0m\u001b[0m\n\u001b[0m\u001b[1;32m    195\u001b[0m                 \u001b[0mdf_label_round2\u001b[0m\u001b[0;34m[\u001b[0m\u001b[0;34m\"In_timestamp\"\u001b[0m\u001b[0;34m]\u001b[0m \u001b[0;34m=\u001b[0m \u001b[0mdf_label_round2\u001b[0m\u001b[0;34m[\u001b[0m\u001b[0;34m\"Label_In\"\u001b[0m\u001b[0;34m]\u001b[0m \u001b[0;34m+\u001b[0m \u001b[0mvid_starttime\u001b[0m \u001b[0;34m+\u001b[0m \u001b[0mstring_to_timedelta\u001b[0m\u001b[0;34m(\u001b[0m\u001b[0mlabel1_starttime\u001b[0m\u001b[0;34m)\u001b[0m\u001b[0;34m\u001b[0m\u001b[0;34m\u001b[0m\u001b[0m\n\u001b[1;32m    196\u001b[0m                 \u001b[0mdf_label_round2\u001b[0m\u001b[0;34m[\u001b[0m\u001b[0;34m\"Out_timestamp\"\u001b[0m\u001b[0;34m]\u001b[0m \u001b[0;34m=\u001b[0m \u001b[0mdf_label_round2\u001b[0m\u001b[0;34m[\u001b[0m\u001b[0;34m\"Label_Out\"\u001b[0m\u001b[0;34m]\u001b[0m \u001b[0;34m+\u001b[0m \u001b[0mvid_starttime\u001b[0m \u001b[0;34m+\u001b[0m \u001b[0mstring_to_timedelta\u001b[0m\u001b[0;34m(\u001b[0m\u001b[0mlabel1_starttime\u001b[0m\u001b[0;34m)\u001b[0m\u001b[0;34m\u001b[0m\u001b[0;34m\u001b[0m\u001b[0m\n",
      "\u001b[0;31mNameError\u001b[0m: name 'string_to_timedelta' is not defined"
     ]
    }
   ],
   "source": [
    "gen_label_data(config_gen_data)"
   ]
  },
  {
   "cell_type": "code",
   "execution_count": null,
   "metadata": {},
   "outputs": [],
   "source": []
  }
 ],
 "metadata": {
  "anaconda-cloud": {},
  "hide_input": false,
  "kernelspec": {
   "display_name": "Python 3",
   "language": "python",
   "name": "python3"
  },
  "language_info": {
   "codemirror_mode": {
    "name": "ipython",
    "version": 3
   },
   "file_extension": ".py",
   "mimetype": "text/x-python",
   "name": "python",
   "nbconvert_exporter": "python",
   "pygments_lexer": "ipython3",
   "version": "3.6.9"
  },
  "nav_menu": {},
  "toc": {
   "base_numbering": 1,
   "colors": {
    "hover_highlight": "#DAA520",
    "navigate_num": "#000000",
    "navigate_text": "#333333",
    "running_highlight": "#FF0000",
    "selected_highlight": "#FFD700",
    "sidebar_border": "#EEEEEE",
    "wrapper_background": "#FFFFFF"
   },
   "moveMenuLeft": true,
   "nav_menu": {
    "height": "102px",
    "width": "252px"
   },
   "navigate_menu": true,
   "number_sections": true,
   "sideBar": true,
   "skip_h1_title": false,
   "threshold": 4,
   "title_cell": "Table of Contents",
   "title_sidebar": "Contents",
   "toc_cell": true,
   "toc_position": {},
   "toc_section_display": "block",
   "toc_window_display": false,
   "widenNotebook": false
  },
  "toc_position": {
   "height": "982px",
   "left": "0px",
   "right": "auto",
   "top": "106px",
   "width": "212px"
  }
 },
 "nbformat": 4,
 "nbformat_minor": 4
}
